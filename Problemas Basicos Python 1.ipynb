{
 "cells": [
  {
   "cell_type": "code",
   "execution_count": 1,
   "metadata": {},
   "outputs": [
    {
     "name": "stdout",
     "output_type": "stream",
     "text": [
      "Introduce tu matricula:1794656\n",
      "Mi nombre es Jesus Guillermo Felix Barreras y mi matricula es:  1794656\n"
     ]
    }
   ],
   "source": [
    "Matricula = int(input(\"Introduce tu matricula:\" ))\n",
    "\n",
    "print (\"Mi nombre es Jesus Guillermo Felix Barreras y mi matricula es: \", Matricula)\n",
    "\n"
   ]
  },
  {
   "cell_type": "code",
   "execution_count": 4,
   "metadata": {},
   "outputs": [
    {
     "name": "stdout",
     "output_type": "stream",
     "text": [
      "Introduce un número:3\n",
      "Introduce otro número: 1\n",
      "La suma de los numeros es:  4\n",
      "La resta de los numeros es:  2\n",
      "La division de los numeros es:  3.0\n",
      "La multiplicacion de los numeros es:  3\n",
      "La exponencial de los numeros es:  3\n"
     ]
    }
   ],
   "source": [
    "n1 = int(input(\"Introduce un número:\" ))\n",
    "n2 = int(input(\"Introduce otro número: \"))\n",
    "suma = n1+n2\n",
    "resta = n1-n2\n",
    "division = n1/n2\n",
    "multi = n1*n2\n",
    "exp = n1**n2\n",
    "print (\"La suma de los numeros es: \", suma)\n",
    "print (\"La resta de los numeros es: \", resta)\n",
    "print (\"La division de los numeros es: \", division)\n",
    "print (\"La multiplicacion de los numeros es: \", multi)\n",
    "print (\"La exponencial de los numeros es: \", exp)"
   ]
  },
  {
   "cell_type": "code",
   "execution_count": 27,
   "metadata": {},
   "outputs": [
    {
     "name": "stdout",
     "output_type": "stream",
     "text": [
      "3\n",
      "6\n",
      "9\n",
      "12\n",
      "15\n",
      "18\n",
      "21\n",
      "24\n",
      "27\n",
      "30\n",
      "La suma de la lista de multiplos de 3 es: 165\n"
     ]
    }
   ],
   "source": [
    "i=3\n",
    "n=0\n",
    "while i <= 30:\n",
    "    print (i)\n",
    "    n = n + i\n",
    "    i=i+3\n",
    "print(\"La suma de la lista de multiplos de 3 es:\",n)\n"
   ]
  },
  {
   "cell_type": "code",
   "execution_count": 29,
   "metadata": {},
   "outputs": [
    {
     "name": "stdout",
     "output_type": "stream",
     "text": [
      "Introduzca un numero:2\n",
      "El numero es par\n"
     ]
    }
   ],
   "source": [
    "n = 0\n",
    "n = int(input(\"Introduzca un numero:\"))\n",
    "if n%2 == 0:\n",
    "    print(\"El numero es par\")\n",
    "else:\n",
    "    print(\"El numero es impar\")"
   ]
  },
  {
   "cell_type": "code",
   "execution_count": 32,
   "metadata": {},
   "outputs": [
    {
     "name": "stdout",
     "output_type": "stream",
     "text": [
      "Introduzca un numero:3\n",
      "El numero no es primo\n",
      "El numero es primo\n"
     ]
    }
   ],
   "source": [
    "n = 0\n",
    "n = int(input(\"Introduzca un numero:\"))\n",
    "for x in range(1, n):\n",
    "    if n%x != 0:\n",
    "        print(\"El numero es primo\")\n",
    "    else:\n",
    "        print(\"El numero no es primo\")\n",
    "#Al final no me salio"
   ]
  },
  {
   "cell_type": "code",
   "execution_count": 38,
   "metadata": {},
   "outputs": [
    {
     "name": "stdout",
     "output_type": "stream",
     "text": [
      "n=17\n",
      "True\n"
     ]
    }
   ],
   "source": [
    "#Sin embargo encontre este codigo en stackoverflow\n",
    "def is_prime(n): \n",
    "    for i in range(2, n):\n",
    "        if n % i == 0:\n",
    "            return False\n",
    "    return True\n",
    "n = int(input(\"n=\"))\n",
    "print(is_prime(n))\n",
    "#El enlace es: https://es.stackoverflow.com/questions/156186/n%C3%BAmeros-primos-en-python/156190"
   ]
  }
 ],
 "metadata": {
  "kernelspec": {
   "display_name": "Python 3",
   "language": "python",
   "name": "python3"
  },
  "language_info": {
   "codemirror_mode": {
    "name": "ipython",
    "version": 3
   },
   "file_extension": ".py",
   "mimetype": "text/x-python",
   "name": "python",
   "nbconvert_exporter": "python",
   "pygments_lexer": "ipython3",
   "version": "3.8.5"
  }
 },
 "nbformat": 4,
 "nbformat_minor": 4
}
