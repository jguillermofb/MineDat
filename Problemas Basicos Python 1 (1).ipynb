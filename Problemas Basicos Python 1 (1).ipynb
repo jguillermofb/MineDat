{
 "cells": [
  {
   "cell_type": "markdown",
   "metadata": {},
   "source": [
    "Ejercicio 1:\n",
    "Realiza una variable con tu matricula y realiza una secuencia de imprimir con tu nombre y tu matricula concatenados."
   ]
  },
  {
   "cell_type": "code",
   "execution_count": 1,
   "metadata": {},
   "outputs": [
    {
     "name": "stdout",
     "output_type": "stream",
     "text": [
      "Introduce tu matricula:1794656\n",
      "Mi nombre es Jesus Guillermo Felix Barreras y mi matricula es:  1794656\n"
     ]
    }
   ],
   "source": [
    "Matricula = int(input(\"Introduce tu matricula:\" ))\n",
    "\n",
    "print (\"Mi nombre es Jesus Guillermo Felix Barreras y mi matricula es: \", Matricula)\n"
   ]
  },
  {
   "cell_type": "markdown",
   "metadata": {},
   "source": [
    "Ejercicio 2:\n",
    "Pidiendo el input del usuario pide dos números y crea una pequeña calculadora con los operadores básicos de suma, resta, multiplicación, división, y exponente.\n",
    "\n",
    "Utilizando el loop de while"
   ]
  },
  {
   "cell_type": "code",
   "execution_count": 29,
   "metadata": {},
   "outputs": [
    {
     "name": "stdout",
     "output_type": "stream",
     "text": [
      "Introduzca un numero:2\n",
      "El numero es par\n"
     ]
    }
   ],
   "source": [
    "n1 = int(input(\"Introduce un número:\" ))\n",
    "n2 = int(input(\"Introduce otro número: \"))\n",
    "suma = n1+n2\n",
    "resta = n1-n2\n",
    "division = n1/n2\n",
    "multi = n1*n2\n",
    "exp = n1**n2\n",
    "print (\"La suma de los numeros es: \", suma)\n",
    "print (\"La resta de los numeros es: \", resta)\n",
    "print (\"La division de los numeros es: \", division)\n",
    "print (\"La multiplicacion de los numeros es: \", multi)\n",
    "print (\"La exponencial de los numeros es: \", exp)"
   ]
  },
  {
   "cell_type": "markdown",
   "metadata": {},
   "source": [
    "Ejercicio 3:\n",
    "Con loop while o for, realiza una lista de 10 numeros multiplos de 3, y después realiza una función de loop que sume todos los números dentro del arreglo."
   ]
  },
  {
   "cell_type": "code",
   "execution_count": 38,
   "metadata": {},
   "outputs": [
    {
     "name": "stdout",
     "output_type": "stream",
     "text": [
      "n=17\n",
      "True\n"
     ]
    }
   ],
   "source": [
    "i=3\n",
    "n=0\n",
    "while i <= 30:\n",
    "    print (i)\n",
    "    n = n + i\n",
    "    i=i+3\n",
    "print(\"La suma de la lista de multiplos de 3 es:\",n)"
   ]
  },
  {
   "cell_type": "markdown",
   "metadata": {},
   "source": [
    "Ejercicio 4\n",
    "Con una función de if else, revisar si un número es par o es impar."
   ]
  },
  {
   "cell_type": "code",
   "execution_count": null,
   "metadata": {},
   "outputs": [],
   "source": [
    "n = 0\n",
    "n = int(input(\"Introduzca un numero:\"))\n",
    "if n%2 == 0:\n",
    "    print(\"El numero es par\")\n",
    "else:\n",
    "    print(\"El numero es impar\")"
   ]
  },
  {
   "cell_type": "markdown",
   "metadata": {},
   "source": [
    "Con una función de if else, revisar si un número es primo o no."
   ]
  },
  {
   "cell_type": "code",
   "execution_count": null,
   "metadata": {},
   "outputs": [],
   "source": [
    "n = 0\n",
    "n = int(input(\"Introduzca un numero:\"))\n",
    "for x in range(1, n):\n",
    "    if n%x != 0:\n",
    "        print(\"El numero es primo\")\n",
    "    else:\n",
    "        print(\"El numero no es primo\")\n",
    "#Al final no me salio\n",
    "#Sin embargo encontre este codigo en stackoverflow\n",
    "def is_prime(n): \n",
    "    for i in range(2, n):\n",
    "        if n % i == 0:\n",
    "            return False\n",
    "    return True\n",
    "n = int(input(\"n=\"))\n",
    "print(is_prime(n))\n",
    "#El enlace es: https://es.stackoverflow.com/questions/156186/n%C3%BAmeros-primos-en-python/156190"
   ]
  },
  {
   "cell_type": "markdown",
   "metadata": {},
   "source": [
    "Crear una variable flotante, integer, boleana y compleja e imprimir el tipo de variable que es."
   ]
  },
  {
   "cell_type": "code",
   "execution_count": 9,
   "metadata": {},
   "outputs": [
    {
     "name": "stdout",
     "output_type": "stream",
     "text": [
      "Introduce un numero entero:5\n"
     ]
    },
    {
     "data": {
      "text/plain": [
       "int"
      ]
     },
     "execution_count": 9,
     "metadata": {},
     "output_type": "execute_result"
    }
   ],
   "source": [
    "vi=int(input(\"Introduce un numero entero:\"))\n",
    "type(vi)"
   ]
  },
  {
   "cell_type": "code",
   "execution_count": 10,
   "metadata": {},
   "outputs": [
    {
     "name": "stdout",
     "output_type": "stream",
     "text": [
      "Introduce un numero con decimal: 4.3\n"
     ]
    },
    {
     "data": {
      "text/plain": [
       "float"
      ]
     },
     "execution_count": 10,
     "metadata": {},
     "output_type": "execute_result"
    }
   ],
   "source": [
    "vf=float(input(\"Introduce un numero con decimal: \"))\n",
    "type(vf)"
   ]
  },
  {
   "cell_type": "code",
   "execution_count": 11,
   "metadata": {},
   "outputs": [
    {
     "name": "stdout",
     "output_type": "stream",
     "text": [
      "Introduce un numero complejo: 3j\n"
     ]
    },
    {
     "data": {
      "text/plain": [
       "complex"
      ]
     },
     "execution_count": 11,
     "metadata": {},
     "output_type": "execute_result"
    }
   ],
   "source": [
    "vc=complex(input(\"Introduce un numero complejo: \"))\n",
    "type(vc)"
   ]
  },
  {
   "cell_type": "markdown",
   "metadata": {},
   "source": [
    "Crear una lista con 40 elementos aleatorios enteros."
   ]
  },
  {
   "cell_type": "code",
   "execution_count": null,
   "metadata": {},
   "outputs": [],
   "source": [
    "import random\n",
    "\n",
    "def listaAleatorios(n):\n",
    "    lista = []\n",
    "    for i in range(n):\n",
    "        lista.insert(i, random.randrange(0, 1000, 2))\n",
    "    return lista\n",
    "n = 40\n",
    "\n",
    "aleatorios = listaAleatorios(n)\n",
    "print(aleatorios"
   ]
  }
 ],
 "metadata": {
  "kernelspec": {
   "display_name": "Python 3",
   "language": "python",
   "name": "python3"
  },
  "language_info": {
   "codemirror_mode": {
    "name": "ipython",
    "version": 3
   },
   "file_extension": ".py",
   "mimetype": "text/x-python",
   "name": "python",
   "nbconvert_exporter": "python",
   "pygments_lexer": "ipython3",
   "version": "3.8.5"
  }
 },
 "nbformat": 4,
 "nbformat_minor": 4
}
